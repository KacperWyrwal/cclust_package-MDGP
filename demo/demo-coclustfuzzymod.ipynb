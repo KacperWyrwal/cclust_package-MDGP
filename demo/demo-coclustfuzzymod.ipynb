{
 "cells": [
  {
   "cell_type": "markdown",
   "metadata": {},
   "source": [
    "#Author: Francois Role <francois.role@gmail.com>"
   ]
  },
  {
   "cell_type": "code",
   "execution_count": 10,
   "metadata": {},
   "outputs": [
    {
     "name": "stdout",
     "output_type": "stream",
     "text": [
      "The autoreload extension is already loaded. To reload it, use:\n",
      "  %reload_ext autoreload\n"
     ]
    }
   ],
   "source": [
    "%load_ext autoreload\n",
    "\n",
    "%autoreload 2"
   ]
  },
  {
   "cell_type": "code",
   "execution_count": 13,
   "metadata": {},
   "outputs": [
    {
     "name": "stdout",
     "output_type": "stream",
     "text": [
      "MODULARITY: 0.4085509809252788124\n"
     ]
    },
    {
     "name": "stderr",
     "output_type": "stream",
     "text": [
      "/home/frole/anaconda3/lib/python3.6/site-packages/matplotlib/cbook/deprecation.py:107: MatplotlibDeprecationWarning: Passing one of 'on', 'true', 'off', 'false' as a boolean is deprecated; use an actual boolean (True/False) instead.\n",
      "  warnings.warn(message, mplDeprecation, stacklevel=1)\n"
     ]
    },
    {
     "data": {
      "image/png": "[encoded data removed]",
      "text/plain": [
       "<Figure size 432x288 with 1 Axes>"
      ]
     },
     "metadata": {},
     "output_type": "display_data"
    }
   ],
   "source": [
    "%matplotlib inline\n",
    "from scipy.io import loadmat\n",
    "from coclust.coclustering import CoclustFuzzyMod\n",
    "from coclust.visualization import (plot_cluster_top_terms,\n",
    "                                   plot_convergence)\n",
    "\n",
    "# Retrieve the Classic3  document-term matrix from a matlab file\n",
    "file_name = \"../datasets/classic3.mat\"\n",
    "matlab_dict = loadmat(file_name)\n",
    "\n",
    "X = matlab_dict['A']\n",
    "\n",
    "# Create and fit a model with 3 co-clusters\n",
    "model = CoclustFuzzyMod(n_clusters=3)\n",
    "model.fit(X)\n",
    "\n",
    "# Plot modularities\n",
    "print(\"MODULARITY: %s\" % model.modularity)\n",
    "plot_convergence(model.modularities, \"Modularities\")\n"
   ]
  },
  {
   "cell_type": "code",
   "execution_count": null,
   "metadata": {},
   "outputs": [],
   "source": [
    "%matplotlib inline\n",
    "from scipy.io import loadmat\n",
    "from coclust.coclustering import CoclustMod\n",
    "from coclust.visualization import (plot_cluster_top_terms, plot_convergence)\n",
    "\n",
    "# Retrieve the Classic3  document-term matrix from a matlab file\n",
    "file_name = \"../datasets/classic3.mat\"\n",
    "matlab_dict = loadmat(file_name)\n",
    "\n",
    "X = matlab_dict['A']\n",
    "\n",
    "# Create and fit a model with 3 co-clusters\n",
    "model = CoclustMod(n_clusters=3)\n",
    "model.fit(X)\n",
    "\n",
    "# Plot modularities\n",
    "print(\"MODULARITY: %s\" % model.modularity)\n",
    "plot_convergence(model.modularities, \"Modularities\")\n",
    "plot_cluster_top_terms()"
   ]
  }
 ],
 "metadata": {
  "kernelspec": {
   "display_name": "Python 3",
   "language": "python",
   "name": "python3"
  },
  "language_info": {
   "codemirror_mode": {
    "name": "ipython",
    "version": 3
   },
   "file_extension": ".py",
   "mimetype": "text/x-python",
   "name": "python",
   "nbconvert_exporter": "python",
   "pygments_lexer": "ipython3",
   "version": "3.6.5"
  }
 },
 "nbformat": 4,
 "nbformat_minor": 2
}
