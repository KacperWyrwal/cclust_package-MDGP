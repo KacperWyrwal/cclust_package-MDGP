{
 "cells": [
  {
   "cell_type": "markdown",
   "metadata": {},
   "source": [
    "#Author: Francois Role <francois.role@gmail.com>"
   ]
  },
  {
   "cell_type": "code",
   "execution_count": 1,
   "metadata": {},
   "outputs": [],
   "source": [
    "%load_ext autoreload\n",
    "\n",
    "%autoreload 2"
   ]
  },
  {
   "cell_type": "markdown",
   "metadata": {},
   "source": [
    "The following example also illustrates how to use the `coclust.io.data_loading`module the `coclust.visualization`module"
   ]
  },
  {
   "cell_type": "code",
   "execution_count": 8,
   "metadata": {},
   "outputs": [
    {
     "name": "stdout",
     "output_type": "stream",
     "text": [
      "0.9200056934846922\n",
      "MODULARITY: 0.40857047426854338184\n"
     ]
    },
    {
     "name": "stderr",
     "output_type": "stream",
     "text": [
      "/home/frole/anaconda3/lib/python3.6/site-packages/matplotlib/cbook/deprecation.py:107: MatplotlibDeprecationWarning: Passing one of 'on', 'true', 'off', 'false' as a boolean is deprecated; use an actual boolean (True/False) instead.\n",
      "  warnings.warn(message, mplDeprecation, stacklevel=1)\n"
     ]
    },
    {
     "data": {
      "image/png": "[encoded data removed]",
      "text/plain": [
       "<Figure size 432x288 with 1 Axes>"
      ]
     },
     "metadata": {},
     "output_type": "display_data"
    },
    {
     "ename": "TypeError",
     "evalue": "plot_cluster_top_terms() missing 4 required positional arguments: 'in_data', 'all_terms', 'nb_top_terms', and 'model'",
     "output_type": "error",
     "traceback": [
      "\u001b[0;31m---------------------------------------------------------------------------\u001b[0m",
      "\u001b[0;31mTypeError\u001b[0m                                 Traceback (most recent call last)",
      "\u001b[0;32m<ipython-input-8-058f1360056c>\u001b[0m in \u001b[0;36m<module>\u001b[0;34m()\u001b[0m\n\u001b[1;32m     25\u001b[0m \u001b[0;34m\u001b[0m\u001b[0m\n\u001b[1;32m     26\u001b[0m \u001b[0;31m# Plot top terms\u001b[0m\u001b[0;34m\u001b[0m\u001b[0;34m\u001b[0m\u001b[0m\n\u001b[0;32m---> 27\u001b[0;31m \u001b[0mplot_cluster_top_terms\u001b[0m\u001b[0;34m(\u001b[0m\u001b[0;34m)\u001b[0m\u001b[0;34m\u001b[0m\u001b[0m\n\u001b[0m",
      "\u001b[0;31mTypeError\u001b[0m: plot_cluster_top_terms() missing 4 required positional arguments: 'in_data', 'all_terms', 'nb_top_terms', and 'model'"
     ]
    }
   ],
   "source": [
    "from sklearn.metrics.cluster import normalized_mutual_info_score as nmi\n",
    "from coclust.io.data_loading import load_doc_term_data\n",
    "from coclust.coclustering import CoclustFuzzyMod\n",
    "from coclust.visualization import (plot_cluster_top_terms,\n",
    "                                   plot_convergence)\n",
    "\n",
    "\n",
    "# read data\n",
    "path = '../datasets/classic3_coclustFormat.mat'\n",
    "doc_term_data = load_doc_term_data(path)\n",
    "X = doc_term_data['doc_term_matrix']\n",
    "true_doc_labels = doc_term_data['doc_labels']\n",
    "\n",
    "# process\n",
    "model = CoclustFuzzyMod(n_clusters=3, random_state=18)\n",
    "model.fit(X)\n",
    "\n",
    "# evaluate\n",
    "predicted_doc_labels = model.row_labels_\n",
    "print(nmi(true_doc_labels, predicted_doc_labels))\n",
    "\n",
    "# Plot modularities\n",
    "print(\"MODULARITY: %s\" % model.modularity)\n",
    "plot_convergence(model.modularities, \"Modularities\")\n",
    "\n",
    "# Plot top terms\n",
    "plot_cluster_top_terms()"
   ]
  },
  {
   "cell_type": "code",
   "execution_count": null,
   "metadata": {},
   "outputs": [],
   "source": []
  }
 ],
 "metadata": {
  "kernelspec": {
   "display_name": "Python 3",
   "language": "python",
   "name": "python3"
  },
  "language_info": {
   "codemirror_mode": {
    "name": "ipython",
    "version": 3
   },
   "file_extension": ".py",
   "mimetype": "text/x-python",
   "name": "python",
   "nbconvert_exporter": "python",
   "pygments_lexer": "ipython3",
   "version": "3.6.5"
  }
 },
 "nbformat": 4,
 "nbformat_minor": 2
}
